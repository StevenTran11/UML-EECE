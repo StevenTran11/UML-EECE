{
 "cells": [
  {
   "cell_type": "markdown",
   "id": "0",
   "metadata": {},
   "source": [
    "## Lab 3 Part 2 - EECE.4860/5860 at UMass Lowell\n",
    "\n",
    "Complete the missing code to execute a complex query that invokes search and calculation tools."
   ]
  },
  {
   "cell_type": "code",
   "execution_count": 1,
   "id": "1",
   "metadata": {},
   "outputs": [
    {
     "name": "stdout",
     "output_type": "stream",
     "text": [
      "Defaulting to user installation because normal site-packages is not writeable\n",
      "Requirement already satisfied: langchain in /home/u36e87926e39e265cdd3b4f969ee677d/.local/lib/python3.10/site-packages (0.3.23)\n",
      "Requirement already satisfied: langchain-community in /home/u36e87926e39e265cdd3b4f969ee677d/.local/lib/python3.10/site-packages (0.3.21)\n",
      "Collecting langchain_nvidia_ai_endpoints\n",
      "  Downloading langchain_nvidia_ai_endpoints-0.3.9-py3-none-any.whl.metadata (11 kB)\n",
      "Collecting wikipedia\n",
      "  Downloading wikipedia-1.4.0.tar.gz (27 kB)\n",
      "  Preparing metadata (setup.py) ... \u001b[?25ldone\n",
      "\u001b[?25hRequirement already satisfied: jsonpointer in /home/u36e87926e39e265cdd3b4f969ee677d/.local/lib/python3.10/site-packages (3.0.0)\n",
      "Collecting numexpr\n",
      "  Downloading numexpr-2.10.2-cp310-cp310-manylinux_2_27_x86_64.manylinux_2_28_x86_64.whl.metadata (8.1 kB)\n",
      "Requirement already satisfied: langchain-core<1.0.0,>=0.3.51 in /home/u36e87926e39e265cdd3b4f969ee677d/.local/lib/python3.10/site-packages (from langchain) (0.3.51)\n",
      "Requirement already satisfied: langchain-text-splitters<1.0.0,>=0.3.8 in /home/u36e87926e39e265cdd3b4f969ee677d/.local/lib/python3.10/site-packages (from langchain) (0.3.8)\n",
      "Requirement already satisfied: langsmith<0.4,>=0.1.17 in /home/u36e87926e39e265cdd3b4f969ee677d/.local/lib/python3.10/site-packages (from langchain) (0.3.27)\n",
      "Requirement already satisfied: pydantic<3.0.0,>=2.7.4 in /home/u36e87926e39e265cdd3b4f969ee677d/.local/lib/python3.10/site-packages (from langchain) (2.11.3)\n",
      "Requirement already satisfied: SQLAlchemy<3,>=1.4 in /home/u36e87926e39e265cdd3b4f969ee677d/.local/lib/python3.10/site-packages (from langchain) (2.0.40)\n",
      "Requirement already satisfied: requests<3,>=2 in /mount/opt/intel/miniforge3/envs/pytorch_2.6/lib/python3.10/site-packages (from langchain) (2.32.3)\n",
      "Requirement already satisfied: PyYAML>=5.3 in /home/u36e87926e39e265cdd3b4f969ee677d/.local/lib/python3.10/site-packages (from langchain) (6.0.2)\n",
      "Requirement already satisfied: async-timeout<5.0.0,>=4.0.0 in /home/u36e87926e39e265cdd3b4f969ee677d/.local/lib/python3.10/site-packages (from langchain) (4.0.3)\n",
      "Requirement already satisfied: aiohttp<4.0.0,>=3.8.3 in /home/u36e87926e39e265cdd3b4f969ee677d/.local/lib/python3.10/site-packages (from langchain-community) (3.11.14)\n",
      "Requirement already satisfied: tenacity!=8.4.0,<10,>=8.1.0 in /home/u36e87926e39e265cdd3b4f969ee677d/.local/lib/python3.10/site-packages (from langchain-community) (9.1.2)\n",
      "Requirement already satisfied: dataclasses-json<0.7,>=0.5.7 in /home/u36e87926e39e265cdd3b4f969ee677d/.local/lib/python3.10/site-packages (from langchain-community) (0.6.7)\n",
      "Requirement already satisfied: pydantic-settings<3.0.0,>=2.4.0 in /home/u36e87926e39e265cdd3b4f969ee677d/.local/lib/python3.10/site-packages (from langchain-community) (2.8.1)\n",
      "Requirement already satisfied: httpx-sse<1.0.0,>=0.4.0 in /home/u36e87926e39e265cdd3b4f969ee677d/.local/lib/python3.10/site-packages (from langchain-community) (0.4.0)\n",
      "Requirement already satisfied: numpy<3,>=1.26.2 in /mount/opt/intel/miniforge3/envs/pytorch_2.6/lib/python3.10/site-packages (from langchain-community) (2.1.2)\n",
      "Collecting beautifulsoup4 (from wikipedia)\n",
      "  Downloading beautifulsoup4-4.13.3-py3-none-any.whl.metadata (3.8 kB)\n",
      "Requirement already satisfied: aiohappyeyeballs>=2.3.0 in /home/u36e87926e39e265cdd3b4f969ee677d/.local/lib/python3.10/site-packages (from aiohttp<4.0.0,>=3.8.3->langchain-community) (2.6.1)\n",
      "Requirement already satisfied: aiosignal>=1.1.2 in /home/u36e87926e39e265cdd3b4f969ee677d/.local/lib/python3.10/site-packages (from aiohttp<4.0.0,>=3.8.3->langchain-community) (1.3.2)\n",
      "Requirement already satisfied: attrs>=17.3.0 in /home/u36e87926e39e265cdd3b4f969ee677d/.local/lib/python3.10/site-packages (from aiohttp<4.0.0,>=3.8.3->langchain-community) (25.3.0)\n",
      "Requirement already satisfied: frozenlist>=1.1.1 in /home/u36e87926e39e265cdd3b4f969ee677d/.local/lib/python3.10/site-packages (from aiohttp<4.0.0,>=3.8.3->langchain-community) (1.5.0)\n",
      "Requirement already satisfied: multidict<7.0,>=4.5 in /home/u36e87926e39e265cdd3b4f969ee677d/.local/lib/python3.10/site-packages (from aiohttp<4.0.0,>=3.8.3->langchain-community) (6.2.0)\n",
      "Requirement already satisfied: propcache>=0.2.0 in /home/u36e87926e39e265cdd3b4f969ee677d/.local/lib/python3.10/site-packages (from aiohttp<4.0.0,>=3.8.3->langchain-community) (0.3.0)\n",
      "Requirement already satisfied: yarl<2.0,>=1.17.0 in /home/u36e87926e39e265cdd3b4f969ee677d/.local/lib/python3.10/site-packages (from aiohttp<4.0.0,>=3.8.3->langchain-community) (1.18.3)\n",
      "Requirement already satisfied: marshmallow<4.0.0,>=3.18.0 in /home/u36e87926e39e265cdd3b4f969ee677d/.local/lib/python3.10/site-packages (from dataclasses-json<0.7,>=0.5.7->langchain-community) (3.26.1)\n",
      "Requirement already satisfied: typing-inspect<1,>=0.4.0 in /home/u36e87926e39e265cdd3b4f969ee677d/.local/lib/python3.10/site-packages (from dataclasses-json<0.7,>=0.5.7->langchain-community) (0.9.0)\n",
      "Requirement already satisfied: jsonpatch<2.0,>=1.33 in /home/u36e87926e39e265cdd3b4f969ee677d/.local/lib/python3.10/site-packages (from langchain-core<1.0.0,>=0.3.51->langchain) (1.33)\n",
      "Requirement already satisfied: packaging<25,>=23.2 in /home/u36e87926e39e265cdd3b4f969ee677d/.local/lib/python3.10/site-packages (from langchain-core<1.0.0,>=0.3.51->langchain) (24.2)\n",
      "Requirement already satisfied: typing-extensions>=4.7 in /mount/opt/intel/miniforge3/envs/pytorch_2.6/lib/python3.10/site-packages (from langchain-core<1.0.0,>=0.3.51->langchain) (4.12.2)\n",
      "Requirement already satisfied: httpx<1,>=0.23.0 in /home/u36e87926e39e265cdd3b4f969ee677d/.local/lib/python3.10/site-packages (from langsmith<0.4,>=0.1.17->langchain) (0.28.1)\n",
      "Requirement already satisfied: orjson<4.0.0,>=3.9.14 in /home/u36e87926e39e265cdd3b4f969ee677d/.local/lib/python3.10/site-packages (from langsmith<0.4,>=0.1.17->langchain) (3.10.16)\n",
      "Requirement already satisfied: requests-toolbelt<2.0.0,>=1.0.0 in /home/u36e87926e39e265cdd3b4f969ee677d/.local/lib/python3.10/site-packages (from langsmith<0.4,>=0.1.17->langchain) (1.0.0)\n",
      "Requirement already satisfied: zstandard<0.24.0,>=0.23.0 in /mount/opt/intel/miniforge3/envs/pytorch_2.6/lib/python3.10/site-packages (from langsmith<0.4,>=0.1.17->langchain) (0.23.0)\n",
      "Requirement already satisfied: annotated-types>=0.6.0 in /home/u36e87926e39e265cdd3b4f969ee677d/.local/lib/python3.10/site-packages (from pydantic<3.0.0,>=2.7.4->langchain) (0.7.0)\n",
      "Requirement already satisfied: pydantic-core==2.33.1 in /home/u36e87926e39e265cdd3b4f969ee677d/.local/lib/python3.10/site-packages (from pydantic<3.0.0,>=2.7.4->langchain) (2.33.1)\n",
      "Requirement already satisfied: typing-inspection>=0.4.0 in /home/u36e87926e39e265cdd3b4f969ee677d/.local/lib/python3.10/site-packages (from pydantic<3.0.0,>=2.7.4->langchain) (0.4.0)\n",
      "Requirement already satisfied: python-dotenv>=0.21.0 in /home/u36e87926e39e265cdd3b4f969ee677d/.local/lib/python3.10/site-packages (from pydantic-settings<3.0.0,>=2.4.0->langchain-community) (1.1.0)\n",
      "Requirement already satisfied: charset_normalizer<4,>=2 in /mount/opt/intel/miniforge3/envs/pytorch_2.6/lib/python3.10/site-packages (from requests<3,>=2->langchain) (3.4.1)\n",
      "Requirement already satisfied: idna<4,>=2.5 in /mount/opt/intel/miniforge3/envs/pytorch_2.6/lib/python3.10/site-packages (from requests<3,>=2->langchain) (3.10)\n",
      "Requirement already satisfied: urllib3<3,>=1.21.1 in /mount/opt/intel/miniforge3/envs/pytorch_2.6/lib/python3.10/site-packages (from requests<3,>=2->langchain) (2.3.0)\n",
      "Requirement already satisfied: certifi>=2017.4.17 in /mount/opt/intel/miniforge3/envs/pytorch_2.6/lib/python3.10/site-packages (from requests<3,>=2->langchain) (2024.12.14)\n",
      "Requirement already satisfied: greenlet>=1 in /home/u36e87926e39e265cdd3b4f969ee677d/.local/lib/python3.10/site-packages (from SQLAlchemy<3,>=1.4->langchain) (3.1.1)\n",
      "Collecting soupsieve>1.2 (from beautifulsoup4->wikipedia)\n",
      "  Downloading soupsieve-2.6-py3-none-any.whl.metadata (4.6 kB)\n",
      "Requirement already satisfied: anyio in /home/u36e87926e39e265cdd3b4f969ee677d/.local/lib/python3.10/site-packages (from httpx<1,>=0.23.0->langsmith<0.4,>=0.1.17->langchain) (4.9.0)\n",
      "Requirement already satisfied: httpcore==1.* in /home/u36e87926e39e265cdd3b4f969ee677d/.local/lib/python3.10/site-packages (from httpx<1,>=0.23.0->langsmith<0.4,>=0.1.17->langchain) (1.0.7)\n",
      "Requirement already satisfied: h11<0.15,>=0.13 in /home/u36e87926e39e265cdd3b4f969ee677d/.local/lib/python3.10/site-packages (from httpcore==1.*->httpx<1,>=0.23.0->langsmith<0.4,>=0.1.17->langchain) (0.14.0)\n",
      "Requirement already satisfied: mypy-extensions>=0.3.0 in /home/u36e87926e39e265cdd3b4f969ee677d/.local/lib/python3.10/site-packages (from typing-inspect<1,>=0.4.0->dataclasses-json<0.7,>=0.5.7->langchain-community) (1.0.0)\n",
      "Requirement already satisfied: exceptiongroup>=1.0.2 in /mount/opt/intel/miniforge3/envs/pytorch_2.6/lib/python3.10/site-packages (from anyio->httpx<1,>=0.23.0->langsmith<0.4,>=0.1.17->langchain) (1.2.2)\n",
      "Requirement already satisfied: sniffio>=1.1 in /home/u36e87926e39e265cdd3b4f969ee677d/.local/lib/python3.10/site-packages (from anyio->httpx<1,>=0.23.0->langsmith<0.4,>=0.1.17->langchain) (1.3.1)\n",
      "Downloading langchain_nvidia_ai_endpoints-0.3.9-py3-none-any.whl (41 kB)\n",
      "Downloading numexpr-2.10.2-cp310-cp310-manylinux_2_27_x86_64.manylinux_2_28_x86_64.whl (397 kB)\n",
      "Downloading beautifulsoup4-4.13.3-py3-none-any.whl (186 kB)\n",
      "Downloading soupsieve-2.6-py3-none-any.whl (36 kB)\n",
      "Building wheels for collected packages: wikipedia\n",
      "  Building wheel for wikipedia (setup.py) ... \u001b[?25ldone\n",
      "\u001b[?25h  Created wheel for wikipedia: filename=wikipedia-1.4.0-py3-none-any.whl size=11728 sha256=9acbc7e51f79938c4b997634986fd661fb99a2a32ca76b465500b35bb5ccde22\n",
      "  Stored in directory: /home/u36e87926e39e265cdd3b4f969ee677d/.cache/pip/wheels/5e/b6/c5/93f3dec388ae76edc830cb42901bb0232504dfc0df02fc50de\n",
      "Successfully built wikipedia\n",
      "Installing collected packages: soupsieve, numexpr, beautifulsoup4, wikipedia, langchain_nvidia_ai_endpoints\n",
      "Successfully installed beautifulsoup4-4.13.3 langchain_nvidia_ai_endpoints-0.3.9 numexpr-2.10.2 soupsieve-2.6 wikipedia-1.4.0\n"
     ]
    }
   ],
   "source": [
    "import sys\n",
    "!{sys.executable} -m pip install --upgrade langchain langchain-community langchain_nvidia_ai_endpoints wikipedia jsonpointer numexpr\n"
   ]
  },
  {
   "cell_type": "code",
   "execution_count": 1,
   "id": "2",
   "metadata": {},
   "outputs": [
    {
     "name": "stdin",
     "output_type": "stream",
     "text": [
      "Enter API key for NVIDIA:  ········\n"
     ]
    }
   ],
   "source": [
    "import getpass\n",
    "import os\n",
    "from langchain_nvidia_ai_endpoints import ChatNVIDIA\n",
    "\n",
    "# You need to apply for a free API key from NVIDIA at https://build.nvidia.com\n",
    "if not os.environ.get(\"NVIDIA_API_KEY\"):\n",
    "  os.environ[\"NVIDIA_API_KEY\"] = getpass.getpass(\"Enter API key for NVIDIA: \")\n",
    "\n",
    "llm = ChatNVIDIA(model=\"meta/llama-3.1-70b-instruct\",\n",
    "                           temperature=0.1,\n",
    "                            max_tokens=512,\n",
    "                            top_p=1.0,)"
   ]
  },
  {
   "cell_type": "code",
   "execution_count": 2,
   "id": "3",
   "metadata": {},
   "outputs": [],
   "source": [
    "from langchain.chains import LLMMathChain\n",
    "from langchain_community.utilities import WikipediaAPIWrapper\n",
    "from langchain.agents import Tool\n",
    "\n",
    "wikipedia_wrapper = WikipediaAPIWrapper()\n",
    "wikipedia_tool = Tool(\n",
    "    name=\"Wikipedia\",\n",
    "    func=wikipedia_wrapper.run,\n",
    "    description=\"A tool for searching the Internet to find various information on the topics mentioned.\"\n",
    ")\n",
    "math_chain = LLMMathChain.from_llm(llm=llm, verbose=True)\n",
    "calculator = Tool.from_function(\n",
    "    name=\"Calculator\",\n",
    "    func=math_chain.run,\n",
    "    description=\"A tool for solving mathematical problems. Provide only the mathematical expressions.\"\n",
    ")\n",
    "\n",
    "# TODO: set up tools list\n",
    "# tools=[...,...]\n",
    "tools = [wikipedia_tool, calculator]"
   ]
  },
  {
   "cell_type": "code",
   "execution_count": 3,
   "id": "4",
   "metadata": {},
   "outputs": [
    {
     "name": "stderr",
     "output_type": "stream",
     "text": [
      "/tmp/ipykernel_3386148/406131595.py:5: LangChainDeprecationWarning: LangChain agents will continue to be supported, but it is recommended for new use cases to be built with LangGraph. LangGraph offers a more flexible and full-featured framework for building agents, including support for tool-calling, persistence of state, and human-in-the-loop workflows. For details, refer to the `LangGraph documentation <https://langchain-ai.github.io/langgraph/>`_ as well as guides for `Migrating from AgentExecutor <https://python.langchain.com/docs/how_to/migrate_agent/>`_ and LangGraph's `Pre-built ReAct agent <https://langchain-ai.github.io/langgraph/how-tos/create-react-agent/>`_.\n",
      "  agent = initialize_agent(\n"
     ]
    },
    {
     "name": "stdout",
     "output_type": "stream",
     "text": [
      "\n",
      "\n",
      "\u001b[1m> Entering new LLMMathChain chain...\u001b[0m\n",
      "2006^0.43\u001b[32;1m\u001b[1;3m```text\n",
      "2006**0.43\n",
      "```\n",
      "...numexpr.evaluate(\"2006**0.43\")...\n",
      "\u001b[0m\n",
      "Answer: \u001b[33;1m\u001b[1;3m26.30281917656938\u001b[0m\n",
      "\u001b[1m> Finished chain.\u001b[0m\n",
      "{'input': 'In what year was the film Departed with Leopnardo Dicaprio released? What is this year raised to the 0.43 power?', 'output': 'The film \"The Departed\" starring Leonardo DiCaprio was released in 2006. This year raised to the power of 0.43 is 26.30281917656938.'}\n",
      "\n",
      "\n",
      "\u001b[1m> Entering new LLMMathChain chain...\u001b[0m\n",
      "9^2\u001b[32;1m\u001b[1;3m```text\n",
      "9**2\n",
      "```\n",
      "...numexpr.evaluate(\"9**2\")...\n",
      "\u001b[0m\n",
      "Answer: \u001b[33;1m\u001b[1;3m81\u001b[0m\n",
      "\u001b[1m> Finished chain.\u001b[0m\n",
      "{'input': 'What is the capital of Sweden, and how many letters are in that word squared?', 'output': 'Stockholm, 81'}\n"
     ]
    }
   ],
   "source": [
    "from langchain.agents import initialize_agent\n",
    "from langchain.agents.agent_types import AgentType\n",
    "\n",
    "# TODO: create LangChain agent using initialize_agent()\n",
    "agent = initialize_agent(\n",
    "    # TODO: initiate tools list\n",
    "    # tools=...,\n",
    "    # TODO: initiate llm with chat model\n",
    "    # llm=...,\n",
    "    tools=tools,\n",
    "    llm=llm,\n",
    "    agent=AgentType.ZERO_SHOT_REACT_DESCRIPTION,\n",
    "    verbose=False,\n",
    "    handle_parsing_errors=True\n",
    ")\n",
    "\n",
    "print(agent.invoke(\n",
    "    {\"input\": \"In what year was the film Departed with Leopnardo Dicaprio released? What is this year raised to the 0.43 power?\"}))\n",
    "\n",
    "# TODO: try a different query\n",
    "print(agent.invoke(\n",
    "    {\"input\": \"What is the capital of Sweden, and how many letters are in that word squared?\"}))"
   ]
  },
  {
   "cell_type": "code",
   "execution_count": null,
   "id": "5",
   "metadata": {},
   "outputs": [],
   "source": []
  }
 ],
 "metadata": {
  "kernelspec": {
   "display_name": "PyTorch 2.6",
   "language": "python",
   "name": "pytorch-2.6"
  },
  "language_info": {
   "codemirror_mode": {
    "name": "ipython",
    "version": 3
   },
   "file_extension": ".py",
   "mimetype": "text/x-python",
   "name": "python",
   "nbconvert_exporter": "python",
   "pygments_lexer": "ipython3",
   "version": "3.10.16"
  }
 },
 "nbformat": 4,
 "nbformat_minor": 5
}
